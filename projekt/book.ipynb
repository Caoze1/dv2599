{
 "cells": [
  {
   "cell_type": "markdown",
   "metadata": {},
   "source": [
    "## DV2599 Project\n",
    "Group 8\n",
    "\n",
    "\n",
    "***\n",
    "Viktor Fransson\n",
    "\n",
    "vifr22@student.bth.se\n",
    "\n",
    "***\n",
    "\n",
    "Tobias Gustafsson\n",
    "\n",
    "togu22@student.bth.se\n",
    "***"
   ]
  },
  {
   "cell_type": "markdown",
   "metadata": {},
   "source": [
    "#### Initialize"
   ]
  },
  {
   "cell_type": "code",
   "execution_count": null,
   "metadata": {},
   "outputs": [],
   "source": [
    "# Import packages\n",
    "import pandas as pd\n",
    "\n",
    "# Load dataset\n",
    "train_df = pd.read_csv('playground-series-s4e11/train.csv')\n",
    "display(train_df)"
   ]
  }
 ],
 "metadata": {
  "kernelspec": {
   "display_name": "Python 3",
   "language": "python",
   "name": "python3"
  },
  "language_info": {
   "name": "python",
   "version": "3.9.13"
  }
 },
 "nbformat": 4,
 "nbformat_minor": 2
}
